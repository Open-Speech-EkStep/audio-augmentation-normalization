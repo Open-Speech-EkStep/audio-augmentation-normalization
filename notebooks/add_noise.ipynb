{
 "cells": [
  {
   "cell_type": "code",
   "execution_count": 1,
   "id": "fourth-representation",
   "metadata": {},
   "outputs": [],
   "source": [
    "from pydub import AudioSegment, effects\n",
    "import numpy as np\n",
    "from glob import glob\n",
    "from tqdm import tqdm\n",
    "from pydub.utils import make_chunks"
   ]
  },
  {
   "cell_type": "code",
   "execution_count": 2,
   "id": "induced-board",
   "metadata": {},
   "outputs": [
    {
     "data": {
      "text/html": [
       "\n",
       "                    <audio controls>\n",
       "                        <source src=\"data:audio/mpeg;base64,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\" type=\"audio/mpeg\"/>\n",
       "                        Your browser does not support the audio element.\n",
       "                    </audio>\n",
       "                  "
      ],
      "text/plain": [
       "<pydub.audio_segment.AudioSegment at 0x7f2bb36d6890>"
      ]
     },
     "execution_count": 2,
     "metadata": {},
     "output_type": "execute_result"
    }
   ],
   "source": [
    "wav_file = AudioSegment.from_file(file = '../data/sample_data/vakyansh_sample/20200523135458062Z_4akxsofi.wav',\n",
    "                                  format=\"wav\")\n",
    "wav_file"
   ]
  },
  {
   "cell_type": "code",
   "execution_count": 3,
   "id": "looking-subject",
   "metadata": {},
   "outputs": [],
   "source": [
    "restaurant_noises = AudioSegment.from_file(file='../src/background_noise/normalized_restaurant_noise.wav', format='wav')\n",
    "traffic_noise = AudioSegment.from_file(file='../src/background_noise/normalized_traffic_noise.wav', format='wav')\n",
    "pink_noise = AudioSegment.from_file(file='../src/background_noise/normalized_pink_noise.wav', format='wav')"
   ]
  },
  {
   "cell_type": "code",
   "execution_count": 4,
   "id": "faced-animation",
   "metadata": {},
   "outputs": [
    {
     "data": {
      "text/plain": [
       "2.3893125"
      ]
     },
     "execution_count": 4,
     "metadata": {},
     "output_type": "execute_result"
    }
   ],
   "source": [
    "wav_file.duration_seconds"
   ]
  },
  {
   "cell_type": "code",
   "execution_count": 5,
   "id": "weird-upset",
   "metadata": {},
   "outputs": [],
   "source": [
    "noise_duration = int(restaurant_noises.duration_seconds)"
   ]
  },
  {
   "cell_type": "code",
   "execution_count": 8,
   "id": "modular-keyboard",
   "metadata": {},
   "outputs": [
    {
     "data": {
      "text/plain": [
       "357"
      ]
     },
     "execution_count": 8,
     "metadata": {},
     "output_type": "execute_result"
    }
   ],
   "source": [
    "int(noise_duration - wav_file.duration_seconds)"
   ]
  },
  {
   "cell_type": "code",
   "execution_count": 17,
   "id": "curious-ticket",
   "metadata": {},
   "outputs": [],
   "source": [
    "n = np.arange(1,357)"
   ]
  },
  {
   "cell_type": "code",
   "execution_count": 19,
   "id": "presidential-machinery",
   "metadata": {},
   "outputs": [
    {
     "data": {
      "text/plain": [
       "344"
      ]
     },
     "execution_count": 19,
     "metadata": {},
     "output_type": "execute_result"
    }
   ],
   "source": [
    "np.random.choice(n)"
   ]
  },
  {
   "cell_type": "code",
   "execution_count": 23,
   "id": "provincial-input",
   "metadata": {},
   "outputs": [],
   "source": [
    "noise = restaurant_noises[344*1000: int(344+wav_file.duration_seconds)*1000]"
   ]
  },
  {
   "cell_type": "code",
   "execution_count": 24,
   "id": "visible-shark",
   "metadata": {},
   "outputs": [
    {
     "data": {
      "text/html": [
       "\n",
       "                    <audio controls>\n",
       "                        <source src=\"data:audio/mpeg;base64,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\" type=\"audio/mpeg\"/>\n",
       "                        Your browser does not support the audio element.\n",
       "                    </audio>\n",
       "                  "
      ],
      "text/plain": [
       "<pydub.audio_segment.AudioSegment at 0x7f2c141ac310>"
      ]
     },
     "execution_count": 24,
     "metadata": {},
     "output_type": "execute_result"
    }
   ],
   "source": [
    "mixed = wav_file.overlay(noise)\n",
    "mixed"
   ]
  },
  {
   "cell_type": "code",
   "execution_count": null,
   "id": "racial-attribute",
   "metadata": {},
   "outputs": [],
   "source": []
  }
 ],
 "metadata": {
  "kernelspec": {
   "display_name": "Python 3",
   "language": "python",
   "name": "python3"
  },
  "language_info": {
   "codemirror_mode": {
    "name": "ipython",
    "version": 3
   },
   "file_extension": ".py",
   "mimetype": "text/x-python",
   "name": "python",
   "nbconvert_exporter": "python",
   "pygments_lexer": "ipython3",
   "version": "3.7.9"
  }
 },
 "nbformat": 4,
 "nbformat_minor": 5
}
