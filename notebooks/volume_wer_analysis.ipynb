{
 "cells": [
  {
   "cell_type": "code",
   "execution_count": 2,
   "metadata": {},
   "outputs": [],
   "source": [
    "import glob\n",
    "import pandas as pd\n",
    "import matplotlib.pyplot as plt"
   ]
  },
  {
   "cell_type": "code",
   "execution_count": 3,
   "metadata": {},
   "outputs": [],
   "source": [
    "vakyansh_infer = glob.glob('../data/infer_data/vakyansh_v2_infer_data/*/*.csv')"
   ]
  },
  {
   "cell_type": "code",
   "execution_count": 4,
   "metadata": {},
   "outputs": [
    {
     "data": {
      "text/plain": [
       "['../data/infer_data/vakyansh_v2_infer_data/vakyansh_vol_down_40/vakyansh_vol_down_40.csv',\n",
       " '../data/infer_data/vakyansh_v2_infer_data/vakyansh_vol_down_30/vakyansh_vol_down_30.csv',\n",
       " '../data/infer_data/vakyansh_v2_infer_data/vakyansh_vol_down_10/vakyansh_vol_down_10.csv',\n",
       " '../data/infer_data/vakyansh_v2_infer_data/vakyansh_vol_down_5/vakyansh_vol_down_5.csv',\n",
       " '../data/infer_data/vakyansh_v2_infer_data/vakyansh_vol_down_20/vakyansh_vol_down_20.csv',\n",
       " '../data/infer_data/vakyansh_v2_infer_data/vakyansh_vol_down_50/vakyansh_vol_down_50.csv',\n",
       " '../data/infer_data/vakyansh_v2_infer_data/vakyansh/vakyansh.csv']"
      ]
     },
     "execution_count": 4,
     "metadata": {},
     "output_type": "execute_result"
    }
   ],
   "source": [
    "vakyansh_infer"
   ]
  },
  {
   "cell_type": "code",
   "execution_count": 30,
   "metadata": {},
   "outputs": [],
   "source": [
    "wer_vakyansh = []\n",
    "cer_vakyansh = []\n",
    "for i in vakyansh_infer:\n",
    "    df = pd.read_csv(i)\n",
    "    wer_vakyansh.append(df['wer'].sum() / df.num_tokens.sum() * 100)\n",
    "    cer_vakyansh.append(df['cer'].sum() / df.num_chars.sum() * 100)"
   ]
  },
  {
   "cell_type": "code",
   "execution_count": 13,
   "metadata": {},
   "outputs": [],
   "source": [
    "vakyansh = [-40, -30, -10, -5, -20, -50, 0]"
   ]
  },
  {
   "cell_type": "code",
   "execution_count": 14,
   "metadata": {},
   "outputs": [],
   "source": [
    "vakyansh_normalized = glob.glob('../data/infer_data/vakyansh_v2_effects_infer_data/*/*.csv')"
   ]
  },
  {
   "cell_type": "code",
   "execution_count": 31,
   "metadata": {},
   "outputs": [],
   "source": [
    "wer_normalized = []\n",
    "cer_normalized = []\n",
    "for i in vakyansh_normalized:\n",
    "    df = pd.read_csv(i)\n",
    "    wer_normalized.append(df['wer'].sum() / df.num_tokens.sum() * 100)\n",
    "    cer_normalized.append(df['cer'].sum() / df.num_chars.sum() * 100)"
   ]
  },
  {
   "cell_type": "code",
   "execution_count": 16,
   "metadata": {},
   "outputs": [
    {
     "data": {
      "text/plain": [
       "['../data/infer_data/vakyansh_v2_effects_infer_data/vakyansh_vol_down_5_loud_norm/vakyansh_vol_down_5_loud_norm.csv',\n",
       " '../data/infer_data/vakyansh_v2_effects_infer_data/vakyansh_vol_down_30_loud_norm/vakyansh_vol_down_30_loud_norm.csv',\n",
       " '../data/infer_data/vakyansh_v2_effects_infer_data/vakyansh_vol_down_50_loud_norm/vakyansh_vol_down_50_loud_norm.csv',\n",
       " '../data/infer_data/vakyansh_v2_effects_infer_data/vakyansh_vol_down_20_loud_norm/vakyansh_vol_down_20_loud_norm.csv',\n",
       " '../data/infer_data/vakyansh_v2_effects_infer_data/vakyansh_vol_down_10_loud_norm/vakyansh_vol_down_10_loud_norm.csv',\n",
       " '../data/infer_data/vakyansh_v2_effects_infer_data/vakyansh_vol_down_40_loud_norm/vakyansh_vol_down_40_loud_norm.csv']"
      ]
     },
     "execution_count": 16,
     "metadata": {},
     "output_type": "execute_result"
    }
   ],
   "source": [
    "vakyansh_normalized"
   ]
  },
  {
   "cell_type": "code",
   "execution_count": 17,
   "metadata": {},
   "outputs": [],
   "source": [
    "normalized = [-5, -30, -50, -20, -10, -40]"
   ]
  },
  {
   "cell_type": "code",
   "execution_count": 32,
   "metadata": {},
   "outputs": [
    {
     "data": {
      "text/plain": [
       "([34.241839524039236,\n",
       "  31.978613925068338,\n",
       "  31.027898375944684,\n",
       "  30.94548962855765,\n",
       "  31.24095513748191,\n",
       "  44.054510371442355,\n",
       "  31.009808650908504],\n",
       " [20.203445038246066,\n",
       "  18.86316407762238,\n",
       "  18.122271713931003,\n",
       "  18.04707002656533,\n",
       "  18.25532085311642,\n",
       "  26.404246892924366,\n",
       "  18.06531422290848])"
      ]
     },
     "execution_count": 32,
     "metadata": {},
     "output_type": "execute_result"
    }
   ],
   "source": [
    "wer_vakyansh, cer_vakyansh"
   ]
  },
  {
   "cell_type": "code",
   "execution_count": 46,
   "metadata": {},
   "outputs": [
    {
     "data": {
      "image/png": "[encoded data removed]",
      "text/plain": [
       "<Figure size 432x288 with 1 Axes>"
      ]
     },
     "metadata": {
      "needs_background": "light"
     },
     "output_type": "display_data"
    }
   ],
   "source": [
    "plt.plot(vakyansh, wer_vakyansh, 'ro')\n",
    "plt.plot(normalized, wer_normalized, 'go')\n",
    "plt.xlabel('Loudness decreased by dB')\n",
    "plt.ylabel('WER')\n",
    "plt.legend([\"augmented audio\", \"normalized audio\"])\n",
    "plt.savefig('normalized_wer.png', dpi=500)"
   ]
  },
  {
   "cell_type": "code",
   "execution_count": 34,
   "metadata": {},
   "outputs": [
    {
     "data": {
      "text/plain": [
       "Text(0, 0.5, 'CER')"
      ]
     },
     "execution_count": 34,
     "metadata": {},
     "output_type": "execute_result"
    },
    {
     "data": {
      "image/png": "[encoded data removed]",
      "text/plain": [
       "<Figure size 432x288 with 1 Axes>"
      ]
     },
     "metadata": {
      "needs_background": "light"
     },
     "output_type": "display_data"
    }
   ],
   "source": [
    "plt.plot(vakyansh, cer_vakyansh, 'o')\n",
    "plt.plot(normalized, cer_normalized, 'bo')\n",
    "plt.xlabel('Loudness decreased by dB')\n",
    "plt.ylabel('CER')"
   ]
  },
  {
   "cell_type": "code",
   "execution_count": 29,
   "metadata": {},
   "outputs": [
    {
     "data": {
      "text/html": [
       "<div>\n",
       "<style scoped>\n",
       "    .dataframe tbody tr th:only-of-type {\n",
       "        vertical-align: middle;\n",
       "    }\n",
       "\n",
       "    .dataframe tbody tr th {\n",
       "        vertical-align: top;\n",
       "    }\n",
       "\n",
       "    .dataframe thead th {\n",
       "        text-align: right;\n",
       "    }\n",
       "</style>\n",
       "<table border=\"1\" class=\"dataframe\">\n",
       "  <thead>\n",
       "    <tr style=\"text-align: right;\">\n",
       "      <th></th>\n",
       "      <th>original</th>\n",
       "      <th>predicted</th>\n",
       "      <th>wer</th>\n",
       "      <th>cer</th>\n",
       "      <th>num_tokens</th>\n",
       "      <th>num_chars</th>\n",
       "    </tr>\n",
       "  </thead>\n",
       "  <tbody>\n",
       "    <tr>\n",
       "      <th>0</th>\n",
       "      <td>परन्तु यह ईश्वर की योजना है मनुष्य की नहीं&lt;unk&gt;</td>\n",
       "      <td>प</td>\n",
       "      <td>9</td>\n",
       "      <td>38</td>\n",
       "      <td>9</td>\n",
       "      <td>39</td>\n",
       "    </tr>\n",
       "    <tr>\n",
       "      <th>1</th>\n",
       "      <td>अंतरजातीय विवाह की स्वीकार्यता इतनी आसन नहीं ह...</td>\n",
       "      <td>अंतर्जाती विवाह की स्वीकारयता इतनी आसन हीं हैअ...</td>\n",
       "      <td>39</td>\n",
       "      <td>205</td>\n",
       "      <td>8</td>\n",
       "      <td>45</td>\n",
       "    </tr>\n",
       "    <tr>\n",
       "      <th>2</th>\n",
       "      <td>संचालन प्रणाली संग्राहक</td>\n",
       "      <td>संचालन प्रणाली सं्राहकसंचालन प्रणाली संग्राहक ...</td>\n",
       "      <td>19</td>\n",
       "      <td>142</td>\n",
       "      <td>3</td>\n",
       "      <td>21</td>\n",
       "    </tr>\n",
       "    <tr>\n",
       "      <th>3</th>\n",
       "      <td>390 4 016 09960 56860</td>\n",
       "      <td>390060996086860</td>\n",
       "      <td>5</td>\n",
       "      <td>3</td>\n",
       "      <td>5</td>\n",
       "      <td>17</td>\n",
       "    </tr>\n",
       "    <tr>\n",
       "      <th>4</th>\n",
       "      <td>सं 11 संघ के अधिकार कृषि समझौता 19211921 11051...</td>\n",
       "      <td>संख्या के रा सं के अधिकार कृषि समझौता 192119 2...</td>\n",
       "      <td>6</td>\n",
       "      <td>15</td>\n",
       "      <td>9</td>\n",
       "      <td>41</td>\n",
       "    </tr>\n",
       "  </tbody>\n",
       "</table>\n",
       "</div>"
      ],
      "text/plain": [
       "                                            original  \\\n",
       "0   परन्तु यह ईश्वर की योजना है मनुष्य की नहीं<unk>    \n",
       "1  अंतरजातीय विवाह की स्वीकार्यता इतनी आसन नहीं ह...   \n",
       "2                           संचालन प्रणाली संग्राहक    \n",
       "3                             390 4 016 09960 56860    \n",
       "4  सं 11 संघ के अधिकार कृषि समझौता 19211921 11051...   \n",
       "\n",
       "                                           predicted  wer  cer  num_tokens  \\\n",
       "0                                                 प     9   38           9   \n",
       "1  अंतर्जाती विवाह की स्वीकारयता इतनी आसन हीं हैअ...   39  205           8   \n",
       "2  संचालन प्रणाली सं्राहकसंचालन प्रणाली संग्राहक ...   19  142           3   \n",
       "3                                   390060996086860     5    3           5   \n",
       "4  संख्या के रा सं के अधिकार कृषि समझौता 192119 2...    6   15           9   \n",
       "\n",
       "   num_chars  \n",
       "0         39  \n",
       "1         45  \n",
       "2         21  \n",
       "3         17  \n",
       "4         41  "
      ]
     },
     "execution_count": 29,
     "metadata": {},
     "output_type": "execute_result"
    }
   ],
   "source": [
    "df.head()"
   ]
  },
  {
   "cell_type": "code",
   "execution_count": null,
   "metadata": {},
   "outputs": [],
   "source": []
  }
 ],
 "metadata": {
  "kernelspec": {
   "display_name": "Python 3",
   "language": "python",
   "name": "python3"
  },
  "language_info": {
   "codemirror_mode": {
    "name": "ipython",
    "version": 3
   },
   "file_extension": ".py",
   "mimetype": "text/x-python",
   "name": "python",
   "nbconvert_exporter": "python",
   "pygments_lexer": "ipython3",
   "version": "3.7.3"
  }
 },
 "nbformat": 4,
 "nbformat_minor": 4
}
